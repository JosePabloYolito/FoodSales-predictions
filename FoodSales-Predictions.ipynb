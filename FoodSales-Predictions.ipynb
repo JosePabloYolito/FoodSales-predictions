{
 "cells": [
  {
   "attachments": {},
   "cell_type": "markdown",
   "metadata": {},
   "source": [
    "# Proyect 1 - Food sales predictions"
   ]
  },
  {
   "attachments": {},
   "cell_type": "markdown",
   "metadata": {},
   "source": [
    "## Parte 1"
   ]
  },
  {
   "cell_type": "code",
   "execution_count": 289,
   "metadata": {},
   "outputs": [],
   "source": [
    "import pandas as pd\n",
    "import numpy as np\n",
    "import matplotlib.pyplot as plt\n",
    "import seaborn as sns"
   ]
  },
  {
   "cell_type": "code",
   "execution_count": 290,
   "metadata": {},
   "outputs": [
    {
     "data": {
      "text/html": [
       "<div>\n",
       "<style scoped>\n",
       "    .dataframe tbody tr th:only-of-type {\n",
       "        vertical-align: middle;\n",
       "    }\n",
       "\n",
       "    .dataframe tbody tr th {\n",
       "        vertical-align: top;\n",
       "    }\n",
       "\n",
       "    .dataframe thead th {\n",
       "        text-align: right;\n",
       "    }\n",
       "</style>\n",
       "<table border=\"1\" class=\"dataframe\">\n",
       "  <thead>\n",
       "    <tr style=\"text-align: right;\">\n",
       "      <th></th>\n",
       "      <th>Item_Identifier</th>\n",
       "      <th>Item_Weight</th>\n",
       "      <th>Item_Fat_Content</th>\n",
       "      <th>Item_Visibility</th>\n",
       "      <th>Item_Type</th>\n",
       "      <th>Item_MRP</th>\n",
       "      <th>Outlet_Identifier</th>\n",
       "      <th>Outlet_Establishment_Year</th>\n",
       "      <th>Outlet_Size</th>\n",
       "      <th>Outlet_Location_Type</th>\n",
       "      <th>Outlet_Type</th>\n",
       "      <th>Item_Outlet_Sales</th>\n",
       "    </tr>\n",
       "  </thead>\n",
       "  <tbody>\n",
       "    <tr>\n",
       "      <th>0</th>\n",
       "      <td>FDA15</td>\n",
       "      <td>9.300</td>\n",
       "      <td>Low Fat</td>\n",
       "      <td>0.016047</td>\n",
       "      <td>Dairy</td>\n",
       "      <td>249.8092</td>\n",
       "      <td>OUT049</td>\n",
       "      <td>1999</td>\n",
       "      <td>Medium</td>\n",
       "      <td>Tier 1</td>\n",
       "      <td>Supermarket Type1</td>\n",
       "      <td>3735.1380</td>\n",
       "    </tr>\n",
       "    <tr>\n",
       "      <th>1</th>\n",
       "      <td>DRC01</td>\n",
       "      <td>5.920</td>\n",
       "      <td>Regular</td>\n",
       "      <td>0.019278</td>\n",
       "      <td>Soft Drinks</td>\n",
       "      <td>48.2692</td>\n",
       "      <td>OUT018</td>\n",
       "      <td>2009</td>\n",
       "      <td>Medium</td>\n",
       "      <td>Tier 3</td>\n",
       "      <td>Supermarket Type2</td>\n",
       "      <td>443.4228</td>\n",
       "    </tr>\n",
       "    <tr>\n",
       "      <th>2</th>\n",
       "      <td>FDN15</td>\n",
       "      <td>17.500</td>\n",
       "      <td>Low Fat</td>\n",
       "      <td>0.016760</td>\n",
       "      <td>Meat</td>\n",
       "      <td>141.6180</td>\n",
       "      <td>OUT049</td>\n",
       "      <td>1999</td>\n",
       "      <td>Medium</td>\n",
       "      <td>Tier 1</td>\n",
       "      <td>Supermarket Type1</td>\n",
       "      <td>2097.2700</td>\n",
       "    </tr>\n",
       "    <tr>\n",
       "      <th>3</th>\n",
       "      <td>FDX07</td>\n",
       "      <td>19.200</td>\n",
       "      <td>Regular</td>\n",
       "      <td>0.000000</td>\n",
       "      <td>Fruits and Vegetables</td>\n",
       "      <td>182.0950</td>\n",
       "      <td>OUT010</td>\n",
       "      <td>1998</td>\n",
       "      <td>NaN</td>\n",
       "      <td>Tier 3</td>\n",
       "      <td>Grocery Store</td>\n",
       "      <td>732.3800</td>\n",
       "    </tr>\n",
       "    <tr>\n",
       "      <th>4</th>\n",
       "      <td>NCD19</td>\n",
       "      <td>8.930</td>\n",
       "      <td>Low Fat</td>\n",
       "      <td>0.000000</td>\n",
       "      <td>Household</td>\n",
       "      <td>53.8614</td>\n",
       "      <td>OUT013</td>\n",
       "      <td>1987</td>\n",
       "      <td>High</td>\n",
       "      <td>Tier 3</td>\n",
       "      <td>Supermarket Type1</td>\n",
       "      <td>994.7052</td>\n",
       "    </tr>\n",
       "    <tr>\n",
       "      <th>5</th>\n",
       "      <td>FDP36</td>\n",
       "      <td>10.395</td>\n",
       "      <td>Regular</td>\n",
       "      <td>0.000000</td>\n",
       "      <td>Baking Goods</td>\n",
       "      <td>51.4008</td>\n",
       "      <td>OUT018</td>\n",
       "      <td>2009</td>\n",
       "      <td>Medium</td>\n",
       "      <td>Tier 3</td>\n",
       "      <td>Supermarket Type2</td>\n",
       "      <td>556.6088</td>\n",
       "    </tr>\n",
       "    <tr>\n",
       "      <th>6</th>\n",
       "      <td>FDO10</td>\n",
       "      <td>13.650</td>\n",
       "      <td>Regular</td>\n",
       "      <td>0.012741</td>\n",
       "      <td>Snack Foods</td>\n",
       "      <td>57.6588</td>\n",
       "      <td>OUT013</td>\n",
       "      <td>1987</td>\n",
       "      <td>High</td>\n",
       "      <td>Tier 3</td>\n",
       "      <td>Supermarket Type1</td>\n",
       "      <td>343.5528</td>\n",
       "    </tr>\n",
       "    <tr>\n",
       "      <th>7</th>\n",
       "      <td>FDP10</td>\n",
       "      <td>NaN</td>\n",
       "      <td>Low Fat</td>\n",
       "      <td>0.127470</td>\n",
       "      <td>Snack Foods</td>\n",
       "      <td>107.7622</td>\n",
       "      <td>OUT027</td>\n",
       "      <td>1985</td>\n",
       "      <td>Medium</td>\n",
       "      <td>Tier 3</td>\n",
       "      <td>Supermarket Type3</td>\n",
       "      <td>4022.7636</td>\n",
       "    </tr>\n",
       "    <tr>\n",
       "      <th>8</th>\n",
       "      <td>FDH17</td>\n",
       "      <td>16.200</td>\n",
       "      <td>Regular</td>\n",
       "      <td>0.016687</td>\n",
       "      <td>Frozen Foods</td>\n",
       "      <td>96.9726</td>\n",
       "      <td>OUT045</td>\n",
       "      <td>2002</td>\n",
       "      <td>NaN</td>\n",
       "      <td>Tier 2</td>\n",
       "      <td>Supermarket Type1</td>\n",
       "      <td>1076.5986</td>\n",
       "    </tr>\n",
       "    <tr>\n",
       "      <th>9</th>\n",
       "      <td>FDU28</td>\n",
       "      <td>19.200</td>\n",
       "      <td>Regular</td>\n",
       "      <td>0.094450</td>\n",
       "      <td>Frozen Foods</td>\n",
       "      <td>187.8214</td>\n",
       "      <td>OUT017</td>\n",
       "      <td>2007</td>\n",
       "      <td>NaN</td>\n",
       "      <td>Tier 2</td>\n",
       "      <td>Supermarket Type1</td>\n",
       "      <td>4710.5350</td>\n",
       "    </tr>\n",
       "  </tbody>\n",
       "</table>\n",
       "</div>"
      ],
      "text/plain": [
       "  Item_Identifier  Item_Weight Item_Fat_Content  Item_Visibility  \\\n",
       "0           FDA15        9.300          Low Fat         0.016047   \n",
       "1           DRC01        5.920          Regular         0.019278   \n",
       "2           FDN15       17.500          Low Fat         0.016760   \n",
       "3           FDX07       19.200          Regular         0.000000   \n",
       "4           NCD19        8.930          Low Fat         0.000000   \n",
       "5           FDP36       10.395          Regular         0.000000   \n",
       "6           FDO10       13.650          Regular         0.012741   \n",
       "7           FDP10          NaN          Low Fat         0.127470   \n",
       "8           FDH17       16.200          Regular         0.016687   \n",
       "9           FDU28       19.200          Regular         0.094450   \n",
       "\n",
       "               Item_Type  Item_MRP Outlet_Identifier  \\\n",
       "0                  Dairy  249.8092            OUT049   \n",
       "1            Soft Drinks   48.2692            OUT018   \n",
       "2                   Meat  141.6180            OUT049   \n",
       "3  Fruits and Vegetables  182.0950            OUT010   \n",
       "4              Household   53.8614            OUT013   \n",
       "5           Baking Goods   51.4008            OUT018   \n",
       "6            Snack Foods   57.6588            OUT013   \n",
       "7            Snack Foods  107.7622            OUT027   \n",
       "8           Frozen Foods   96.9726            OUT045   \n",
       "9           Frozen Foods  187.8214            OUT017   \n",
       "\n",
       "   Outlet_Establishment_Year Outlet_Size Outlet_Location_Type  \\\n",
       "0                       1999      Medium               Tier 1   \n",
       "1                       2009      Medium               Tier 3   \n",
       "2                       1999      Medium               Tier 1   \n",
       "3                       1998         NaN               Tier 3   \n",
       "4                       1987        High               Tier 3   \n",
       "5                       2009      Medium               Tier 3   \n",
       "6                       1987        High               Tier 3   \n",
       "7                       1985      Medium               Tier 3   \n",
       "8                       2002         NaN               Tier 2   \n",
       "9                       2007         NaN               Tier 2   \n",
       "\n",
       "         Outlet_Type  Item_Outlet_Sales  \n",
       "0  Supermarket Type1          3735.1380  \n",
       "1  Supermarket Type2           443.4228  \n",
       "2  Supermarket Type1          2097.2700  \n",
       "3      Grocery Store           732.3800  \n",
       "4  Supermarket Type1           994.7052  \n",
       "5  Supermarket Type2           556.6088  \n",
       "6  Supermarket Type1           343.5528  \n",
       "7  Supermarket Type3          4022.7636  \n",
       "8  Supermarket Type1          1076.5986  \n",
       "9  Supermarket Type1          4710.5350  "
      ]
     },
     "execution_count": 290,
     "metadata": {},
     "output_type": "execute_result"
    }
   ],
   "source": [
    "df = pd.read_csv(\"/Users/jpyolito/Desktop/Coding_Dojo/Proyect1/foodsales_predictions.csv\")\n",
    "df.head(10) # Veamos la cabezera "
   ]
  },
  {
   "attachments": {},
   "cell_type": "markdown",
   "metadata": {},
   "source": [
    "## Parte 2"
   ]
  },
  {
   "attachments": {},
   "cell_type": "markdown",
   "metadata": {},
   "source": [
    "* Sus datos ya deberían estar cargados en el cuaderno de la parte 1 del proyecto.\n",
    "\n",
    "* Exploren los datos - ¿Qué necesitan para limpiar estos datos? ¡Límpienlos!  \n",
    "\n",
    "* Asegúrense de abordar cada una de las siguientes tareas:\n",
    "\n",
    "1) ¿Cuántas filas y columnas?\n",
    "\n",
    "2) ¿Cuáles son los tipos de datos en cada variable?\n",
    "\n",
    "3) ¿Hay duplicados? Si es el caso, eliminen algunos duplicados.\n",
    "\n",
    "4) Identifiquen los valores faltantes.\n",
    "\n",
    "5) Decidan cómo abordar los valores faltantes y cómo hacerlo. (Esto requiere sus criterios, así que expliquen su elección).\n",
    "\n",
    "6) Confirmen que no hay valores faltantes después de abordarlos.\n",
    "\n",
    "7) Encuentren y arreglen alguna categoría inconsistente de datos (example: fix cat, Cat, and cats so that they are consistent) \n",
    "\n",
    "8) Para cualquier columna numérica, obtengan las estadísticas resumidas para cada uno (mínimo, máximo y media)"
   ]
  },
  {
   "attachments": {},
   "cell_type": "markdown",
   "metadata": {},
   "source": [
    "1. ¿Cuántas filas y columnas?"
   ]
  },
  {
   "cell_type": "code",
   "execution_count": 291,
   "metadata": {},
   "outputs": [
    {
     "data": {
      "text/plain": [
       "(8523, 12)"
      ]
     },
     "execution_count": 291,
     "metadata": {},
     "output_type": "execute_result"
    }
   ],
   "source": [
    "# numero de filas y columnas\n",
    "df.shape # (filas, columnas)"
   ]
  },
  {
   "attachments": {},
   "cell_type": "markdown",
   "metadata": {},
   "source": [
    "2. ¿Cuáles son los tipos de datos en cada variable?"
   ]
  },
  {
   "cell_type": "code",
   "execution_count": 292,
   "metadata": {},
   "outputs": [
    {
     "name": "stdout",
     "output_type": "stream",
     "text": [
      "<class 'pandas.core.frame.DataFrame'>\n",
      "RangeIndex: 8523 entries, 0 to 8522\n",
      "Data columns (total 12 columns):\n",
      " #   Column                     Non-Null Count  Dtype  \n",
      "---  ------                     --------------  -----  \n",
      " 0   Item_Identifier            8523 non-null   object \n",
      " 1   Item_Weight                7060 non-null   float64\n",
      " 2   Item_Fat_Content           8523 non-null   object \n",
      " 3   Item_Visibility            8523 non-null   float64\n",
      " 4   Item_Type                  8523 non-null   object \n",
      " 5   Item_MRP                   8523 non-null   float64\n",
      " 6   Outlet_Identifier          8523 non-null   object \n",
      " 7   Outlet_Establishment_Year  8523 non-null   int64  \n",
      " 8   Outlet_Size                6113 non-null   object \n",
      " 9   Outlet_Location_Type       8523 non-null   object \n",
      " 10  Outlet_Type                8523 non-null   object \n",
      " 11  Item_Outlet_Sales          8523 non-null   float64\n",
      "dtypes: float64(4), int64(1), object(7)\n",
      "memory usage: 799.2+ KB\n"
     ]
    }
   ],
   "source": [
    "#Alternativa 1: .info()\n",
    "df.info()"
   ]
  },
  {
   "cell_type": "code",
   "execution_count": 293,
   "metadata": {},
   "outputs": [
    {
     "data": {
      "text/plain": [
       "Item_Identifier               object\n",
       "Item_Weight                  float64\n",
       "Item_Fat_Content              object\n",
       "Item_Visibility              float64\n",
       "Item_Type                     object\n",
       "Item_MRP                     float64\n",
       "Outlet_Identifier             object\n",
       "Outlet_Establishment_Year      int64\n",
       "Outlet_Size                   object\n",
       "Outlet_Location_Type          object\n",
       "Outlet_Type                   object\n",
       "Item_Outlet_Sales            float64\n",
       "dtype: object"
      ]
     },
     "execution_count": 293,
     "metadata": {},
     "output_type": "execute_result"
    }
   ],
   "source": [
    "#Alternativa 2: .dtypes\n",
    "df.dtypes"
   ]
  },
  {
   "attachments": {},
   "cell_type": "markdown",
   "metadata": {},
   "source": [
    "3. ¿Hay duplicados? Si es el caso, eliminen algunos duplicados."
   ]
  },
  {
   "cell_type": "code",
   "execution_count": 294,
   "metadata": {},
   "outputs": [
    {
     "data": {
      "text/plain": [
       "False    8523\n",
       "dtype: int64"
      ]
     },
     "execution_count": 294,
     "metadata": {},
     "output_type": "execute_result"
    }
   ],
   "source": [
    "# Veamos si existen filas duplicadas\n",
    "df.duplicated().value_counts() # No hay!"
   ]
  },
  {
   "attachments": {},
   "cell_type": "markdown",
   "metadata": {},
   "source": [
    "4. Encuentren y arreglen alguna categoría inconsistente de datos (example: fix cat, Cat, and cats so that they are consistent) "
   ]
  },
  {
   "cell_type": "code",
   "execution_count": 295,
   "metadata": {},
   "outputs": [
    {
     "name": "stdout",
     "output_type": "stream",
     "text": [
      "Item_Identifier :\n",
      "FDW13    10\n",
      "FDG33    10\n",
      "NCY18     9\n",
      "FDD38     9\n",
      "DRE49     9\n",
      "         ..\n",
      "FDY43     1\n",
      "FDQ60     1\n",
      "FDO33     1\n",
      "DRF48     1\n",
      "FDC23     1\n",
      "Name: Item_Identifier, Length: 1559, dtype: int64\n",
      "------------------------------------------------------------\n",
      "Item_Weight :\n",
      "12.150    86\n",
      "17.600    82\n",
      "13.650    77\n",
      "11.800    76\n",
      "15.100    68\n",
      "          ..\n",
      "7.275      2\n",
      "7.685      1\n",
      "9.420      1\n",
      "6.520      1\n",
      "5.400      1\n",
      "Name: Item_Weight, Length: 415, dtype: int64\n",
      "------------------------------------------------------------\n",
      "Item_Fat_Content :\n",
      "Low Fat    5089\n",
      "Regular    2889\n",
      "LF          316\n",
      "reg         117\n",
      "low fat     112\n",
      "Name: Item_Fat_Content, dtype: int64\n",
      "------------------------------------------------------------\n",
      "Item_Visibility :\n",
      "0.000000    526\n",
      "0.076975      3\n",
      "0.162462      2\n",
      "0.076841      2\n",
      "0.073562      2\n",
      "           ... \n",
      "0.013957      1\n",
      "0.110460      1\n",
      "0.124646      1\n",
      "0.054142      1\n",
      "0.044878      1\n",
      "Name: Item_Visibility, Length: 7880, dtype: int64\n",
      "------------------------------------------------------------\n",
      "Item_Type :\n",
      "Fruits and Vegetables    1232\n",
      "Snack Foods              1200\n",
      "Household                 910\n",
      "Frozen Foods              856\n",
      "Dairy                     682\n",
      "Canned                    649\n",
      "Baking Goods              648\n",
      "Health and Hygiene        520\n",
      "Soft Drinks               445\n",
      "Meat                      425\n",
      "Breads                    251\n",
      "Hard Drinks               214\n",
      "Others                    169\n",
      "Starchy Foods             148\n",
      "Breakfast                 110\n",
      "Seafood                    64\n",
      "Name: Item_Type, dtype: int64\n",
      "------------------------------------------------------------\n",
      "Item_MRP :\n",
      "172.0422    7\n",
      "170.5422    6\n",
      "196.5084    6\n",
      "188.1872    6\n",
      "142.0154    6\n",
      "           ..\n",
      "97.3384     1\n",
      "83.1934     1\n",
      "96.6752     1\n",
      "152.6682    1\n",
      "75.4670     1\n",
      "Name: Item_MRP, Length: 5938, dtype: int64\n",
      "------------------------------------------------------------\n",
      "Outlet_Identifier :\n",
      "OUT027    935\n",
      "OUT013    932\n",
      "OUT049    930\n",
      "OUT046    930\n",
      "OUT035    930\n",
      "OUT045    929\n",
      "OUT018    928\n",
      "OUT017    926\n",
      "OUT010    555\n",
      "OUT019    528\n",
      "Name: Outlet_Identifier, dtype: int64\n",
      "------------------------------------------------------------\n",
      "Outlet_Establishment_Year :\n",
      "1985    1463\n",
      "1987     932\n",
      "1999     930\n",
      "1997     930\n",
      "2004     930\n",
      "2002     929\n",
      "2009     928\n",
      "2007     926\n",
      "1998     555\n",
      "Name: Outlet_Establishment_Year, dtype: int64\n",
      "------------------------------------------------------------\n",
      "Outlet_Size :\n",
      "Medium    2793\n",
      "Small     2388\n",
      "High       932\n",
      "Name: Outlet_Size, dtype: int64\n",
      "------------------------------------------------------------\n",
      "Outlet_Location_Type :\n",
      "Tier 3    3350\n",
      "Tier 2    2785\n",
      "Tier 1    2388\n",
      "Name: Outlet_Location_Type, dtype: int64\n",
      "------------------------------------------------------------\n",
      "Outlet_Type :\n",
      "Supermarket Type1    5577\n",
      "Grocery Store        1083\n",
      "Supermarket Type3     935\n",
      "Supermarket Type2     928\n",
      "Name: Outlet_Type, dtype: int64\n",
      "------------------------------------------------------------\n",
      "Item_Outlet_Sales :\n",
      "958.7520     17\n",
      "1342.2528    16\n",
      "703.0848     15\n",
      "1845.5976    15\n",
      "1278.3360    14\n",
      "             ..\n",
      "4124.6310     1\n",
      "6622.7126     1\n",
      "1614.5650     1\n",
      "5602.7070     1\n",
      "2778.3834     1\n",
      "Name: Item_Outlet_Sales, Length: 3493, dtype: int64\n",
      "------------------------------------------------------------\n"
     ]
    }
   ],
   "source": [
    "# Veamos variable por variable si hay alguna categoría inconsistente\n",
    "def contador_valores(columna):\n",
    "    return df[columna].value_counts()\n",
    "\n",
    "for variable in df:\n",
    "    print(variable, \":\")\n",
    "    print(contador_valores(variable))\n",
    "    print (\"-\"*60)\n",
    "# Al ver el output de todas las variables en \"text editor\", podemos ver que sólo la variable \"Item_Fat_Content\" tiene inconsistencia, ¡HAGAMOS ALGO AL RESPECTO!"
   ]
  },
  {
   "cell_type": "code",
   "execution_count": 296,
   "metadata": {},
   "outputs": [],
   "source": [
    "df[\"Item_Fat_Content\"] = df[\"Item_Fat_Content\"].replace({\"LF\":\"Low Fat\", \"reg\" : \"Regular\" , \"low fat\" : \"Low Fat\"})"
   ]
  },
  {
   "cell_type": "code",
   "execution_count": 297,
   "metadata": {},
   "outputs": [
    {
     "data": {
      "text/plain": [
       "Low Fat    5517\n",
       "Regular    3006\n",
       "Name: Item_Fat_Content, dtype: int64"
      ]
     },
     "execution_count": 297,
     "metadata": {},
     "output_type": "execute_result"
    }
   ],
   "source": [
    "# Veamos el cambio\n",
    "contador_valores(\"Item_Fat_Content\")"
   ]
  },
  {
   "attachments": {},
   "cell_type": "markdown",
   "metadata": {},
   "source": [
    "5. Identifiquen los valores faltantes."
   ]
  },
  {
   "cell_type": "code",
   "execution_count": 298,
   "metadata": {},
   "outputs": [
    {
     "data": {
      "text/plain": [
       "Item_Identifier                 0\n",
       "Item_Weight                  1463\n",
       "Item_Fat_Content                0\n",
       "Item_Visibility                 0\n",
       "Item_Type                       0\n",
       "Item_MRP                        0\n",
       "Outlet_Identifier               0\n",
       "Outlet_Establishment_Year       0\n",
       "Outlet_Size                  2410\n",
       "Outlet_Location_Type            0\n",
       "Outlet_Type                     0\n",
       "Item_Outlet_Sales               0\n",
       "dtype: int64"
      ]
     },
     "execution_count": 298,
     "metadata": {},
     "output_type": "execute_result"
    }
   ],
   "source": [
    "# al ver la información del punto 3 (.info()), podemos ver que hay 2 variables con info faltante:\n",
    "df.isnull().sum() # Claramente hay 2variables con datos faltantes \"(Item_Weight\" y \"Outlet_Size\")"
   ]
  },
  {
   "attachments": {},
   "cell_type": "markdown",
   "metadata": {},
   "source": [
    "6. Decidan cómo abordar los valores faltantes y cómo hacerlo. (Esto requiere sus criterios, así que expliquen su elección)."
   ]
  },
  {
   "cell_type": "code",
   "execution_count": 299,
   "metadata": {},
   "outputs": [],
   "source": [
    "# Vemos que la cantidad de datos nulos por columna no es menor, POR LO QUE NO SE ELIMINARAN FILAS\n",
    "# También, podemos notar que todas las variables tienen mas del 50% con datos, POR LO TANTO NO SE ELIMINARÁN COLUMNAS\n",
    "\n",
    "# Nuestra única alternativa es reemplazar los datos faltantes, ¿pero cómo?\n",
    "# Partamos viendo algun patron con respecto a la variable \"Item Weight\" con respecto al número de identificación"
   ]
  },
  {
   "cell_type": "code",
   "execution_count": 300,
   "metadata": {},
   "outputs": [
    {
     "data": {
      "text/plain": [
       "Item_Identifier  Item_Weight\n",
       "DRA12            11.600         6\n",
       "DRA24            19.350         5\n",
       "DRA59            8.270          6\n",
       "DRB01            7.390          2\n",
       "DRB13            6.115          5\n",
       "                               ..\n",
       "NCZ30            6.590          6\n",
       "NCZ41            19.850         5\n",
       "NCZ42            10.500         5\n",
       "NCZ53            9.600          4\n",
       "NCZ54            14.650         5\n",
       "Length: 1555, dtype: int64"
      ]
     },
     "execution_count": 300,
     "metadata": {},
     "output_type": "execute_result"
    }
   ],
   "source": [
    "df.groupby(\"Item_Identifier\")[[\"Item_Weight\"]].value_counts() # a simple vista se ve que cada identificador \n",
    "# tiene solo 1 valor de la variable peso. Veamos si efectivamente todos son así"
   ]
  },
  {
   "cell_type": "code",
   "execution_count": 301,
   "metadata": {},
   "outputs": [
    {
     "name": "stdout",
     "output_type": "stream",
     "text": [
      "Hay 1555 identificadores con valores únicos\n",
      "Hay 0 identificadores con más de un valor único\n"
     ]
    }
   ],
   "source": [
    "lista_tuplas = df.groupby(\"Item_Identifier\")[[\"Item_Weight\"]].value_counts().index # guardemos los valores \n",
    "# únicos de la variable \"Item_Identifier\" con su respectivos valores según la varaible \"Item_Weight\"\n",
    "suma_valorUnico = 0\n",
    "suma_NoVU = 0\n",
    "\n",
    "for tupla in lista_tuplas:\n",
    "    if len(tupla) == 2:\n",
    "        suma_valorUnico +=1\n",
    "    elif len(tupla) > 2:\n",
    "        suma_NoVU+=1\n",
    "\n",
    "\n",
    "print(\"Hay\",suma_valorUnico, \"identificadores con valores únicos\")\n",
    "print(\"Hay\", suma_NoVU, \"identificadores con más de un valor único\")\n",
    "# podemos ver que practicamente todos los valores de la variable \"Item_Identifier\" tienen un valor único\n",
    "# en la variable \"Item_Weight\" ==>  PATRÓN ENCONTRADO\n"
   ]
  },
  {
   "cell_type": "code",
   "execution_count": 302,
   "metadata": {},
   "outputs": [],
   "source": [
    "for tupla in lista_tuplas:\n",
    "    identificador = tupla[0]# filtremos según el identificador\n",
    "    valor_unico = tupla[1]# guardemos el valor único del identificador en cuestión\n",
    "    filtro = df[\"Item_Identifier\"] == identificador # filtremos según el identificador\n",
    "    df.loc[filtro,\"Item_Weight\"] = df.loc[filtro,\"Item_Weight\"].fillna(valor_unico) # a partir del filtro, rellenemos\n",
    "    # los datos NaN por el valor único\n",
    "    \n",
    "    \n",
    "    \n"
   ]
  },
  {
   "cell_type": "code",
   "execution_count": 303,
   "metadata": {},
   "outputs": [
    {
     "data": {
      "text/plain": [
       "Item_Identifier                 0\n",
       "Item_Weight                     4\n",
       "Item_Fat_Content                0\n",
       "Item_Visibility                 0\n",
       "Item_Type                       0\n",
       "Item_MRP                        0\n",
       "Outlet_Identifier               0\n",
       "Outlet_Establishment_Year       0\n",
       "Outlet_Size                  2410\n",
       "Outlet_Location_Type            0\n",
       "Outlet_Type                     0\n",
       "Item_Outlet_Sales               0\n",
       "dtype: int64"
      ]
     },
     "execution_count": 303,
     "metadata": {},
     "output_type": "execute_result"
    }
   ],
   "source": [
    "# Veamos los datos nulos actualizados (CORRA EL CÓDIGO ANTES DE SEGUIR LEYENDO ESTA CELDA)\n",
    "df.isnull().sum() # Podemos ver que aun hay 4 valores nulos.\n",
    "# Al indagar en el groupby de más mas arriba, podemos ver que hay 4 identificadores (FDK57, FDN52, FDE52 Y FDQ60)\n",
    "# sin ningun tipo de valor en \"Item_Weight\". Por lo tanto, dado que a 4 filas de dicha columna le faltan datos, cuyos\n",
    "# identificadores son distintos en cada uno, se procederá a eliminar dichas filas"
   ]
  },
  {
   "cell_type": "code",
   "execution_count": 304,
   "metadata": {},
   "outputs": [
    {
     "data": {
      "text/plain": [
       "Item_Identifier                 0\n",
       "Item_Weight                     0\n",
       "Item_Fat_Content                0\n",
       "Item_Visibility                 0\n",
       "Item_Type                       0\n",
       "Item_MRP                        0\n",
       "Outlet_Identifier               0\n",
       "Outlet_Establishment_Year       0\n",
       "Outlet_Size                  2410\n",
       "Outlet_Location_Type            0\n",
       "Outlet_Type                     0\n",
       "Item_Outlet_Sales               0\n",
       "dtype: int64"
      ]
     },
     "execution_count": 304,
     "metadata": {},
     "output_type": "execute_result"
    }
   ],
   "source": [
    "#Eliminación de dichas 4 filas\n",
    "df.dropna(subset=['Item_Weight'], inplace=True) # OJO que las filas eliminadas tenian datos en \"Outlet_Size\"\n",
    "# debido a que su valor de datos nulos no bajó (costos de eliminar filas)\n",
    "df.isna().sum()"
   ]
  },
  {
   "cell_type": "code",
   "execution_count": 305,
   "metadata": {},
   "outputs": [
    {
     "data": {
      "text/plain": [
       "MultiIndex([('OUT013',   'High'),\n",
       "            ('OUT018', 'Medium'),\n",
       "            ('OUT019',  'Small'),\n",
       "            ('OUT027', 'Medium'),\n",
       "            ('OUT035',  'Small'),\n",
       "            ('OUT046',  'Small'),\n",
       "            ('OUT049', 'Medium')],\n",
       "           names=['Outlet_Identifier', 'Outlet_Size'])"
      ]
     },
     "execution_count": 305,
     "metadata": {},
     "output_type": "execute_result"
    }
   ],
   "source": [
    "# Veamos ahora la variable \"Outlet_Size\"\n",
    "# Investiguemos si hay un patrón con alguna variable\n",
    "\n",
    "lista_tuplas2 = df.groupby(\"Outlet_Identifier\")[[\"Outlet_Size\"]].value_counts().index # También se puede ver que existe un patrón\n",
    "# del valor del Outlet_Size acorde al valor de la variable Outlet_identifier\n",
    "lista_tuplas2 # Se ve que hay patrón, pero faltan identificadores que son los que tienen datos faltantes No nos sirve :(\n",
    "# Veamos las otras variables"
   ]
  },
  {
   "cell_type": "code",
   "execution_count": 306,
   "metadata": {},
   "outputs": [
    {
     "data": {
      "text/plain": [
       "Outlet_Location_Type  Outlet_Size\n",
       "Tier 1                Small          1457\n",
       "                      Medium          930\n",
       "Tier 2                Small           930\n",
       "Tier 3                Medium         1860\n",
       "                      High            932\n",
       "dtype: int64"
      ]
     },
     "execution_count": 306,
     "metadata": {},
     "output_type": "execute_result"
    }
   ],
   "source": [
    "df.groupby('Outlet_Location_Type')[[\"Outlet_Size\"]].value_counts() # Al parecer Tier 2 solo tiene 1 valor y muchas repeticiones.\n",
    "# Investiguemos!!!\n"
   ]
  },
  {
   "cell_type": "code",
   "execution_count": 307,
   "metadata": {},
   "outputs": [
    {
     "name": "stdout",
     "output_type": "stream",
     "text": [
      "8         NaN\n",
      "9         NaN\n",
      "19      Small\n",
      "22      Small\n",
      "25        NaN\n",
      "        ...  \n",
      "8510    Small\n",
      "8513    Small\n",
      "8514      NaN\n",
      "8519      NaN\n",
      "8520    Small\n",
      "Name: Outlet_Size, Length: 2785, dtype: object\n"
     ]
    },
    {
     "data": {
      "text/plain": [
       "0.3339317773788151"
      ]
     },
     "execution_count": 307,
     "metadata": {},
     "output_type": "execute_result"
    }
   ],
   "source": [
    "print(df[df[\"Outlet_Location_Type\"] == \"Tier 2\"][\"Outlet_Size\"]) #podemos ver que Tier 2 tiene valores faltantes y un\n",
    "# valor único, ¿Podría ser este un patrón para algunos datos NaN?\n",
    "\n",
    "#Problema: vemos que aproximadamente el 33,4% de los datos estan rellenados, veamos otras variables\n",
    "df[df[\"Outlet_Location_Type\"] == \"Tier 2\"][\"Outlet_Size\"].count() / df[df[\"Outlet_Location_Type\"] == \"Tier 2\"].shape[0]"
   ]
  },
  {
   "cell_type": "code",
   "execution_count": 308,
   "metadata": {},
   "outputs": [
    {
     "data": {
      "text/plain": [
       "Outlet_Type        Outlet_Size\n",
       "Grocery Store      Small           527\n",
       "Supermarket Type1  Small          1860\n",
       "                   High            932\n",
       "                   Medium          930\n",
       "Supermarket Type2  Medium          928\n",
       "Supermarket Type3  Medium          932\n",
       "dtype: int64"
      ]
     },
     "execution_count": 308,
     "metadata": {},
     "output_type": "execute_result"
    }
   ],
   "source": [
    "df.groupby('Outlet_Type')[[\"Outlet_Size\"]].value_counts() # Encontramos valores únicos de la variable \"Outlet_Type\""
   ]
  },
  {
   "cell_type": "code",
   "execution_count": 309,
   "metadata": {},
   "outputs": [
    {
     "name": "stdout",
     "output_type": "stream",
     "text": [
      "Small    527\n",
      "Name: Outlet_Size, dtype: int64\n",
      "3         NaN\n",
      "23      Small\n",
      "28        NaN\n",
      "29      Small\n",
      "30        NaN\n",
      "        ...  \n",
      "8473      NaN\n",
      "8480    Small\n",
      "8486      NaN\n",
      "8490    Small\n",
      "8509      NaN\n",
      "Name: Outlet_Size, Length: 1082, dtype: object\n"
     ]
    },
    {
     "data": {
      "text/plain": [
       "Small    0.487061\n",
       "Name: Outlet_Size, dtype: float64"
      ]
     },
     "execution_count": 309,
     "metadata": {},
     "output_type": "execute_result"
    }
   ],
   "source": [
    "print(df[df[\"Outlet_Type\"] == \"Grocery Store\"][\"Outlet_Size\"].value_counts())# Otro patrón encontrado\n",
    "print(df[df[\"Outlet_Type\"] == \"Grocery Store\"][\"Outlet_Size\"]) # Grocery Store tiene datos NaN en Outlet_Type\n",
    "\n",
    "# aca vemos un mayor porcentaje de datos no nulos que Tier 2: 48.7% aprox\n",
    "df[df[\"Outlet_Type\"] == \"Grocery Store\"][\"Outlet_Size\"].value_counts()/len(df[df[\"Outlet_Type\"] == \"Grocery Store\"][\"Outlet_Size\"])"
   ]
  },
  {
   "cell_type": "code",
   "execution_count": 310,
   "metadata": {},
   "outputs": [
    {
     "name": "stdout",
     "output_type": "stream",
     "text": [
      "0\n",
      "0\n"
     ]
    }
   ],
   "source": [
    "# los otros valores con datos únicos de \"Outlet_Type\" no tienen datos faltantes\n",
    "print(df[df[\"Outlet_Type\"] == \"Supermarket Type2\"][\"Outlet_Size\"].isna().sum())\n",
    "print(df[df[\"Outlet_Type\"] == \"Supermarket Type3\"][\"Outlet_Size\"].isna().sum())"
   ]
  },
  {
   "cell_type": "code",
   "execution_count": 311,
   "metadata": {},
   "outputs": [
    {
     "name": "stderr",
     "output_type": "stream",
     "text": [
      "/var/folders/kj/npnp2hyx5mv_ccn5jlth23tr0000gn/T/ipykernel_34836/2985103735.py:6: SettingWithCopyWarning: \n",
      "A value is trying to be set on a copy of a slice from a DataFrame\n",
      "\n",
      "See the caveats in the documentation: https://pandas.pydata.org/pandas-docs/stable/user_guide/indexing.html#returning-a-view-versus-a-copy\n",
      "  filtro1[\"Outlet_Size\"].fillna(relleno1 , inplace = True) # rellenamos datos nulos a la base filtrada\n",
      "/var/folders/kj/npnp2hyx5mv_ccn5jlth23tr0000gn/T/ipykernel_34836/2985103735.py:12: SettingWithCopyWarning: \n",
      "A value is trying to be set on a copy of a slice from a DataFrame\n",
      "\n",
      "See the caveats in the documentation: https://pandas.pydata.org/pandas-docs/stable/user_guide/indexing.html#returning-a-view-versus-a-copy\n",
      "  filtro2[\"Outlet_Size\"].fillna(relleno2 , inplace = True) # rellenamos datos nulos a la base filtrada\n"
     ]
    }
   ],
   "source": [
    "# rellenemos acorde a Tier 2 y a Grocery Store\n",
    "\n",
    "# Grocery Store:\n",
    "relleno1 = df[df[\"Outlet_Type\"] == \"Grocery Store\"][\"Outlet_Size\"].value_counts().index[0] #valor \"Small\"\n",
    "filtro1 = df.loc[df[\"Outlet_Type\"] == \"Grocery Store\"] # filtramos acrode a Grocery Store\n",
    "filtro1[\"Outlet_Size\"].fillna(relleno1 , inplace = True) # rellenamos datos nulos a la base filtrada\n",
    "df.update(filtro1)\n",
    "\n",
    "# Tier 2\n",
    "relleno2 = df[df[\"Outlet_Location_Type\"] == \"Tier 2\"][\"Outlet_Size\"].value_counts().index[0]#valor \"Small\"\n",
    "filtro2 = df.loc[df[\"Outlet_Location_Type\"] == \"Tier 2\"]# filtramos acrode a Tier 2\n",
    "filtro2[\"Outlet_Size\"].fillna(relleno2 , inplace = True) # rellenamos datos nulos a la base filtrada\n",
    "df.update(filtro2)\n"
   ]
  },
  {
   "cell_type": "code",
   "execution_count": 312,
   "metadata": {},
   "outputs": [
    {
     "data": {
      "text/plain": [
       "Small    1082\n",
       "Name: Outlet_Size, dtype: int64"
      ]
     },
     "execution_count": 312,
     "metadata": {},
     "output_type": "execute_result"
    }
   ],
   "source": [
    "# COMO SABER QUE RELLENAMOS BIEN LA VARIABLE \"Outlet_Size\"???\n",
    "\n",
    "# Al inicio, podemos notar que hay 2410 datos nulos en la variable \"Outlet_Size\"\n",
    "\n",
    "#Al filtrar la variable \"Outlet_Location_Type\" a partir del valor Tier 2, nos aparece que hay 2785 filas \n",
    "df.loc[df[\"Outlet_Location_Type\"] == \"Tier 2\"].shape[0] # muestra 2785 filas\n",
    "\n",
    "# De las 2785 filas, al utilizar .value_counts() en la variable \"Outlet Size\", podemos notar que hay 930\n",
    "# valores \"Small\", significando que hay 1855 datos nulos (2785 - 930)\n",
    "df.loc[df[\"Outlet_Location_Type\"] == \"Tier 2\"][\"Outlet_Size\"].value_counts() # muestra 930 datos \"Small\"\n",
    "\n",
    "#Realizamos el mismo procedimiento para la variable \"Outlet_Type\" == \"Grocery Store\"\n",
    "df.loc[df[\"Outlet_Type\"] == \"Grocery Store\"].shape[0] # muestra 1082 filas\n",
    "\n",
    "df.loc[df[\"Outlet_Type\"] == \"Grocery Store\"][\"Outlet_Size\"].value_counts() # muestra 527 datos \"Small\"\n",
    "# aplicando la resta 1082 - 527 = 555 datos nulos\n",
    "\n",
    "# Si sumamos las cantidades de datos nulos de Grocery store y Tier 2 tenemos: 555 + 1855 = 2410 (cantidad de datos\n",
    "# nulos totales de la variable \"Outlet_Size\") *MIND BLOWN*"
   ]
  },
  {
   "attachments": {},
   "cell_type": "markdown",
   "metadata": {},
   "source": [
    "7. Confirmen que no hay valores faltantes después de abordarlos."
   ]
  },
  {
   "cell_type": "code",
   "execution_count": 313,
   "metadata": {},
   "outputs": [
    {
     "data": {
      "text/plain": [
       "Item_Identifier              0\n",
       "Item_Weight                  0\n",
       "Item_Fat_Content             0\n",
       "Item_Visibility              0\n",
       "Item_Type                    0\n",
       "Item_MRP                     0\n",
       "Outlet_Identifier            0\n",
       "Outlet_Establishment_Year    0\n",
       "Outlet_Size                  0\n",
       "Outlet_Location_Type         0\n",
       "Outlet_Type                  0\n",
       "Item_Outlet_Sales            0\n",
       "dtype: int64"
      ]
     },
     "execution_count": 313,
     "metadata": {},
     "output_type": "execute_result"
    }
   ],
   "source": [
    "df.isnull().sum() # no hay variables con datos faltantes"
   ]
  },
  {
   "attachments": {},
   "cell_type": "markdown",
   "metadata": {},
   "source": [
    "8. Para cualquier columna numérica, obtengan las estadísticas resumidas para cada uno (mínimo, máximo y media)"
   ]
  },
  {
   "cell_type": "code",
   "execution_count": 314,
   "metadata": {},
   "outputs": [
    {
     "data": {
      "text/html": [
       "<div>\n",
       "<style scoped>\n",
       "    .dataframe tbody tr th:only-of-type {\n",
       "        vertical-align: middle;\n",
       "    }\n",
       "\n",
       "    .dataframe tbody tr th {\n",
       "        vertical-align: top;\n",
       "    }\n",
       "\n",
       "    .dataframe thead th {\n",
       "        text-align: right;\n",
       "    }\n",
       "</style>\n",
       "<table border=\"1\" class=\"dataframe\">\n",
       "  <thead>\n",
       "    <tr style=\"text-align: right;\">\n",
       "      <th></th>\n",
       "      <th>Item_Weight</th>\n",
       "      <th>Item_Visibility</th>\n",
       "      <th>Item_MRP</th>\n",
       "      <th>Outlet_Establishment_Year</th>\n",
       "      <th>Item_Outlet_Sales</th>\n",
       "    </tr>\n",
       "  </thead>\n",
       "  <tbody>\n",
       "    <tr>\n",
       "      <th>count</th>\n",
       "      <td>8519.00</td>\n",
       "      <td>8519.00</td>\n",
       "      <td>8519.00</td>\n",
       "      <td>8519.00</td>\n",
       "      <td>8519.00</td>\n",
       "    </tr>\n",
       "    <tr>\n",
       "      <th>mean</th>\n",
       "      <td>12.88</td>\n",
       "      <td>0.07</td>\n",
       "      <td>141.01</td>\n",
       "      <td>1997.84</td>\n",
       "      <td>2181.19</td>\n",
       "    </tr>\n",
       "    <tr>\n",
       "      <th>std</th>\n",
       "      <td>4.65</td>\n",
       "      <td>0.05</td>\n",
       "      <td>62.28</td>\n",
       "      <td>8.37</td>\n",
       "      <td>1706.51</td>\n",
       "    </tr>\n",
       "    <tr>\n",
       "      <th>min</th>\n",
       "      <td>4.56</td>\n",
       "      <td>0.00</td>\n",
       "      <td>31.29</td>\n",
       "      <td>1985.00</td>\n",
       "      <td>33.29</td>\n",
       "    </tr>\n",
       "    <tr>\n",
       "      <th>25%</th>\n",
       "      <td>8.78</td>\n",
       "      <td>0.03</td>\n",
       "      <td>93.84</td>\n",
       "      <td>1987.00</td>\n",
       "      <td>834.25</td>\n",
       "    </tr>\n",
       "    <tr>\n",
       "      <th>50%</th>\n",
       "      <td>12.65</td>\n",
       "      <td>0.05</td>\n",
       "      <td>143.05</td>\n",
       "      <td>1999.00</td>\n",
       "      <td>1794.33</td>\n",
       "    </tr>\n",
       "    <tr>\n",
       "      <th>75%</th>\n",
       "      <td>16.85</td>\n",
       "      <td>0.09</td>\n",
       "      <td>185.68</td>\n",
       "      <td>2004.00</td>\n",
       "      <td>3100.63</td>\n",
       "    </tr>\n",
       "    <tr>\n",
       "      <th>max</th>\n",
       "      <td>21.35</td>\n",
       "      <td>0.33</td>\n",
       "      <td>266.89</td>\n",
       "      <td>2009.00</td>\n",
       "      <td>13086.96</td>\n",
       "    </tr>\n",
       "  </tbody>\n",
       "</table>\n",
       "</div>"
      ],
      "text/plain": [
       "       Item_Weight  Item_Visibility  Item_MRP  Outlet_Establishment_Year  \\\n",
       "count      8519.00          8519.00   8519.00                    8519.00   \n",
       "mean         12.88             0.07    141.01                    1997.84   \n",
       "std           4.65             0.05     62.28                       8.37   \n",
       "min           4.56             0.00     31.29                    1985.00   \n",
       "25%           8.78             0.03     93.84                    1987.00   \n",
       "50%          12.65             0.05    143.05                    1999.00   \n",
       "75%          16.85             0.09    185.68                    2004.00   \n",
       "max          21.35             0.33    266.89                    2009.00   \n",
       "\n",
       "       Item_Outlet_Sales  \n",
       "count            8519.00  \n",
       "mean             2181.19  \n",
       "std              1706.51  \n",
       "min                33.29  \n",
       "25%               834.25  \n",
       "50%              1794.33  \n",
       "75%              3100.63  \n",
       "max             13086.96  "
      ]
     },
     "execution_count": 314,
     "metadata": {},
     "output_type": "execute_result"
    }
   ],
   "source": [
    "round(df.describe(),2)"
   ]
  },
  {
   "attachments": {},
   "cell_type": "markdown",
   "metadata": {},
   "source": [
    "## Parte 3\n",
    "\n",
    "Continuaremos trabajando en el proyecto de predicción de ventas. El objetivo es ayudarlos a comprender los datos en relación con los productos y puntos de ventas que desempeñan un papel crucial en el aumento de ventas.\n",
    "\n",
    "Para la tercera parte, la tarea es completar cualquier análisis estadístico que los puedan a ayudar a comprender, explicar o moldear sus datos. Esto debe incluir al menos uno de cada:\n",
    "\n",
    "* Histograma para ver las distribuciones de diversas características en el conjunto de datos.\n",
    "\n",
    "* Boxplot para ver resúmenes estadísticos de diversas características en el conjunto de datos.\n",
    "\n",
    "* Mapa de calor de la correlación entre las características.\n",
    "\n",
    "No duden en agregar más del mínimo. ¡Recuerden que esta es su oportunidad para mostrar sus habilidades!"
   ]
  },
  {
   "cell_type": "code",
   "execution_count": 315,
   "metadata": {},
   "outputs": [
    {
     "data": {
      "image/png": "[encoded data removed]",
      "text/plain": [
       "<Figure size 1000x1000 with 6 Axes>"
      ]
     },
     "metadata": {},
     "output_type": "display_data"
    }
   ],
   "source": [
    "df.hist(figsize=(10,10), edgecolor = \"black\", bins= 15);\n",
    "# \"Outlet_Establisment_Year\" es categórico, por eso el grafico no se ve continuo.\n",
    "\n"
   ]
  },
  {
   "cell_type": "code",
   "execution_count": 316,
   "metadata": {},
   "outputs": [
    {
     "data": {
      "image/png": "[encoded data removed]",
      "text/plain": [
       "<Figure size 1000x1000 with 2 Axes>"
      ]
     },
     "metadata": {},
     "output_type": "display_data"
    }
   ],
   "source": [
    "import random as rd\n",
    "#Comparemos ventas a partir de 3 Items ID\n",
    "n1 = rd.randint(0,len(df[\"Item_Identifier\"].unique()))\n",
    "val1 = df[\"Item_Identifier\"].unique()[n1]\n",
    "\n",
    "n2 = rd.randint(0,len(df[\"Item_Identifier\"].unique()))\n",
    "val2 = df[\"Item_Identifier\"].unique()[n2]\n",
    "\n",
    "n3 = rd.randint(0,len(df[\"Item_Identifier\"].unique()))\n",
    "val3 = df[\"Item_Identifier\"].unique()[n3]\n",
    "\n",
    "identificador_1 = df.loc[df['Item_Identifier']==val1,'Item_Outlet_Sales'].values\n",
    "identificador_2 = df.loc[df['Item_Identifier']==val2,'Item_Outlet_Sales'].values\n",
    "identificador_3 = df.loc[df['Item_Identifier']==val3,'Item_Outlet_Sales'].values\n",
    "\n",
    "#Comparemos ventas a partir de 3 Outlets\n",
    "n4 = rd.randint(0,len(df[\"Outlet_Identifier\"].unique()))\n",
    "val4 = df[\"Outlet_Identifier\"].unique()[n4]\n",
    "\n",
    "n5 = rd.randint(0,len(df[\"Outlet_Identifier\"].unique()))\n",
    "val5 = df[\"Outlet_Identifier\"].unique()[n5]\n",
    "\n",
    "n6 = rd.randint(0,len(df[\"Outlet_Identifier\"].unique()))\n",
    "val6 = df[\"Outlet_Identifier\"].unique()[n6]\n",
    "\n",
    "identificador_4 = df.loc[df['Outlet_Identifier']==val4,'Item_Outlet_Sales'].values\n",
    "identificador_5 = df.loc[df['Outlet_Identifier']==val5,'Item_Outlet_Sales'].values\n",
    "identificador_6 = df.loc[df['Outlet_Identifier']==val6,'Item_Outlet_Sales'].values\n",
    "\n",
    "\n",
    "# Grafiquemos ambas comparaciones :)\n",
    "fig, axes = plt.subplots(nrows=1, ncols=2, figsize=(10, 10))\n",
    "axes[0].boxplot([identificador_1,identificador_2, identificador_3 ], labels=[val1, val2, val3]);\n",
    "axes[0].set_xlabel(\"ID del Producto\")\n",
    "axes[0].set_ylabel(\"Número de ventas\")\n",
    "axes[0].set_title(\"Distribución Ventas según ID del Item\")\n",
    "\n",
    "axes[1].boxplot([identificador_4,identificador_5, identificador_6 ], labels=[val4, val5, val6]);\n",
    "axes[1].set_xlabel(\"ID del Outlet\")\n",
    "axes[1].set_title(\"Distribución Ventas según ID del Outlet\");\n"
   ]
  },
  {
   "cell_type": "code",
   "execution_count": 317,
   "metadata": {},
   "outputs": [
    {
     "data": {
      "text/plain": [
       "<Axes: >"
      ]
     },
     "execution_count": 317,
     "metadata": {},
     "output_type": "execute_result"
    },
    {
     "data": {
      "image/png": "[encoded data removed]",
      "text/plain": [
       "<Figure size 640x480 with 2 Axes>"
      ]
     },
     "metadata": {},
     "output_type": "display_data"
    }
   ],
   "source": [
    "sns.heatmap(corr, cmap = 'Reds', annot=True)"
   ]
  },
  {
   "cell_type": "markdown",
   "metadata": {},
   "source": []
  }
 ],
 "metadata": {
  "kernelspec": {
   "display_name": "Python 3",
   "language": "python",
   "name": "python3"
  },
  "language_info": {
   "codemirror_mode": {
    "name": "ipython",
    "version": 3
   },
   "file_extension": ".py",
   "mimetype": "text/x-python",
   "name": "python",
   "nbconvert_exporter": "python",
   "pygments_lexer": "ipython3",
   "version": "3.8.9"
  },
  "orig_nbformat": 4,
  "vscode": {
   "interpreter": {
    "hash": "31f2aee4e71d21fbe5cf8b01ff0e069b9275f58929596ceb00d14d90e3e16cd6"
   }
  }
 },
 "nbformat": 4,
 "nbformat_minor": 2
}
